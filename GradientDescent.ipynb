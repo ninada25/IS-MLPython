{
  "nbformat": 4,
  "nbformat_minor": 0,
  "metadata": {
    "colab": {
      "provenance": [],
      "authorship_tag": "ABX9TyNHAV2IhlDvwewU0Q/SJhgj",
      "include_colab_link": true
    },
    "kernelspec": {
      "name": "python3",
      "display_name": "Python 3"
    },
    "language_info": {
      "name": "python"
    }
  },
  "cells": [
    {
      "cell_type": "markdown",
      "metadata": {
        "id": "view-in-github",
        "colab_type": "text"
      },
      "source": [
        "<a href=\"https://colab.research.google.com/github/ninada25/IS-MLPython/blob/main/GradientDescent.ipynb\" target=\"_parent\"><img src=\"https://colab.research.google.com/assets/colab-badge.svg\" alt=\"Open In Colab\"/></a>"
      ]
    },
    {
      "cell_type": "markdown",
      "source": [
        "Gradient Descent in Python! (Gradient descent = an optimization algorithm for minimizing the cost function)"
      ],
      "metadata": {
        "id": "MyNWVNWvTpGp"
      }
    },
    {
      "cell_type": "markdown",
      "source": [
        "Tasks for Weeks 5 and 6:\n",
        "\n",
        "Use python to write a for or while loop (for t -> 1:n)\n",
        "- Tolerance level\n",
        "- Many different ways to this, can use the cost function to check and make sure that the cost is going down (it should always go down for a linear regression)\n",
        "\n",
        "Write a function called gradient descent\n",
        "- Inside put the for or while loop\n",
        "- Take in alpha (learning rate), initial values of beta and theta, and cost function and then throw out the cost values and the beta theta values, and number of iterations so I can plot the cost function"
      ],
      "metadata": {
        "id": "SK1f2JUpHS8I"
      }
    },
    {
      "cell_type": "code",
      "execution_count": 2,
      "metadata": {
        "colab": {
          "base_uri": "https://localhost:8080/",
          "height": 74
        },
        "id": "igjPI572EgLd",
        "outputId": "6d0f9aa9-3d02-4b57-c9c3-d5f34733d41a"
      },
      "outputs": [
        {
          "output_type": "display_data",
          "data": {
            "text/plain": [
              "<IPython.core.display.HTML object>"
            ],
            "text/html": [
              "\n",
              "     <input type=\"file\" id=\"files-81a97a22-2cca-4670-9ce9-b6bb35071faa\" name=\"files[]\" multiple disabled\n",
              "        style=\"border:none\" />\n",
              "     <output id=\"result-81a97a22-2cca-4670-9ce9-b6bb35071faa\">\n",
              "      Upload widget is only available when the cell has been executed in the\n",
              "      current browser session. Please rerun this cell to enable.\n",
              "      </output>\n",
              "      <script>// Copyright 2017 Google LLC\n",
              "//\n",
              "// Licensed under the Apache License, Version 2.0 (the \"License\");\n",
              "// you may not use this file except in compliance with the License.\n",
              "// You may obtain a copy of the License at\n",
              "//\n",
              "//      http://www.apache.org/licenses/LICENSE-2.0\n",
              "//\n",
              "// Unless required by applicable law or agreed to in writing, software\n",
              "// distributed under the License is distributed on an \"AS IS\" BASIS,\n",
              "// WITHOUT WARRANTIES OR CONDITIONS OF ANY KIND, either express or implied.\n",
              "// See the License for the specific language governing permissions and\n",
              "// limitations under the License.\n",
              "\n",
              "/**\n",
              " * @fileoverview Helpers for google.colab Python module.\n",
              " */\n",
              "(function(scope) {\n",
              "function span(text, styleAttributes = {}) {\n",
              "  const element = document.createElement('span');\n",
              "  element.textContent = text;\n",
              "  for (const key of Object.keys(styleAttributes)) {\n",
              "    element.style[key] = styleAttributes[key];\n",
              "  }\n",
              "  return element;\n",
              "}\n",
              "\n",
              "// Max number of bytes which will be uploaded at a time.\n",
              "const MAX_PAYLOAD_SIZE = 100 * 1024;\n",
              "\n",
              "function _uploadFiles(inputId, outputId) {\n",
              "  const steps = uploadFilesStep(inputId, outputId);\n",
              "  const outputElement = document.getElementById(outputId);\n",
              "  // Cache steps on the outputElement to make it available for the next call\n",
              "  // to uploadFilesContinue from Python.\n",
              "  outputElement.steps = steps;\n",
              "\n",
              "  return _uploadFilesContinue(outputId);\n",
              "}\n",
              "\n",
              "// This is roughly an async generator (not supported in the browser yet),\n",
              "// where there are multiple asynchronous steps and the Python side is going\n",
              "// to poll for completion of each step.\n",
              "// This uses a Promise to block the python side on completion of each step,\n",
              "// then passes the result of the previous step as the input to the next step.\n",
              "function _uploadFilesContinue(outputId) {\n",
              "  const outputElement = document.getElementById(outputId);\n",
              "  const steps = outputElement.steps;\n",
              "\n",
              "  const next = steps.next(outputElement.lastPromiseValue);\n",
              "  return Promise.resolve(next.value.promise).then((value) => {\n",
              "    // Cache the last promise value to make it available to the next\n",
              "    // step of the generator.\n",
              "    outputElement.lastPromiseValue = value;\n",
              "    return next.value.response;\n",
              "  });\n",
              "}\n",
              "\n",
              "/**\n",
              " * Generator function which is called between each async step of the upload\n",
              " * process.\n",
              " * @param {string} inputId Element ID of the input file picker element.\n",
              " * @param {string} outputId Element ID of the output display.\n",
              " * @return {!Iterable<!Object>} Iterable of next steps.\n",
              " */\n",
              "function* uploadFilesStep(inputId, outputId) {\n",
              "  const inputElement = document.getElementById(inputId);\n",
              "  inputElement.disabled = false;\n",
              "\n",
              "  const outputElement = document.getElementById(outputId);\n",
              "  outputElement.innerHTML = '';\n",
              "\n",
              "  const pickedPromise = new Promise((resolve) => {\n",
              "    inputElement.addEventListener('change', (e) => {\n",
              "      resolve(e.target.files);\n",
              "    });\n",
              "  });\n",
              "\n",
              "  const cancel = document.createElement('button');\n",
              "  inputElement.parentElement.appendChild(cancel);\n",
              "  cancel.textContent = 'Cancel upload';\n",
              "  const cancelPromise = new Promise((resolve) => {\n",
              "    cancel.onclick = () => {\n",
              "      resolve(null);\n",
              "    };\n",
              "  });\n",
              "\n",
              "  // Wait for the user to pick the files.\n",
              "  const files = yield {\n",
              "    promise: Promise.race([pickedPromise, cancelPromise]),\n",
              "    response: {\n",
              "      action: 'starting',\n",
              "    }\n",
              "  };\n",
              "\n",
              "  cancel.remove();\n",
              "\n",
              "  // Disable the input element since further picks are not allowed.\n",
              "  inputElement.disabled = true;\n",
              "\n",
              "  if (!files) {\n",
              "    return {\n",
              "      response: {\n",
              "        action: 'complete',\n",
              "      }\n",
              "    };\n",
              "  }\n",
              "\n",
              "  for (const file of files) {\n",
              "    const li = document.createElement('li');\n",
              "    li.append(span(file.name, {fontWeight: 'bold'}));\n",
              "    li.append(span(\n",
              "        `(${file.type || 'n/a'}) - ${file.size} bytes, ` +\n",
              "        `last modified: ${\n",
              "            file.lastModifiedDate ? file.lastModifiedDate.toLocaleDateString() :\n",
              "                                    'n/a'} - `));\n",
              "    const percent = span('0% done');\n",
              "    li.appendChild(percent);\n",
              "\n",
              "    outputElement.appendChild(li);\n",
              "\n",
              "    const fileDataPromise = new Promise((resolve) => {\n",
              "      const reader = new FileReader();\n",
              "      reader.onload = (e) => {\n",
              "        resolve(e.target.result);\n",
              "      };\n",
              "      reader.readAsArrayBuffer(file);\n",
              "    });\n",
              "    // Wait for the data to be ready.\n",
              "    let fileData = yield {\n",
              "      promise: fileDataPromise,\n",
              "      response: {\n",
              "        action: 'continue',\n",
              "      }\n",
              "    };\n",
              "\n",
              "    // Use a chunked sending to avoid message size limits. See b/62115660.\n",
              "    let position = 0;\n",
              "    do {\n",
              "      const length = Math.min(fileData.byteLength - position, MAX_PAYLOAD_SIZE);\n",
              "      const chunk = new Uint8Array(fileData, position, length);\n",
              "      position += length;\n",
              "\n",
              "      const base64 = btoa(String.fromCharCode.apply(null, chunk));\n",
              "      yield {\n",
              "        response: {\n",
              "          action: 'append',\n",
              "          file: file.name,\n",
              "          data: base64,\n",
              "        },\n",
              "      };\n",
              "\n",
              "      let percentDone = fileData.byteLength === 0 ?\n",
              "          100 :\n",
              "          Math.round((position / fileData.byteLength) * 100);\n",
              "      percent.textContent = `${percentDone}% done`;\n",
              "\n",
              "    } while (position < fileData.byteLength);\n",
              "  }\n",
              "\n",
              "  // All done.\n",
              "  yield {\n",
              "    response: {\n",
              "      action: 'complete',\n",
              "    }\n",
              "  };\n",
              "}\n",
              "\n",
              "scope.google = scope.google || {};\n",
              "scope.google.colab = scope.google.colab || {};\n",
              "scope.google.colab._files = {\n",
              "  _uploadFiles,\n",
              "  _uploadFilesContinue,\n",
              "};\n",
              "})(self);\n",
              "</script> "
            ]
          },
          "metadata": {}
        },
        {
          "output_type": "stream",
          "name": "stdout",
          "text": [
            "Saving Advertising.csv to Advertising.csv\n"
          ]
        }
      ],
      "source": [
        "# upload CSV file to Google Colab\n",
        "from google.colab import files # import 'files' module from 'google.colab' library\n",
        "\n",
        "uploaded = files.upload() # upload a file from my local machine to Google Colab"
      ]
    },
    {
      "cell_type": "code",
      "source": [
        "import pandas as pd # import pandas library for data manipulation + analysis\n",
        "import numpy as np # for numerical and mathematical operations i.e. arrays, matrices, and mathematical funcs\n",
        "import matplotlib.pyplot as plt # for visualizations\n",
        "import seaborn as sn # for more visualizations\n",
        "\n",
        "file_path = 'Advertising.csv' # specify file path\n",
        "Advertising = pd.read_csv(file_path) # read CSV file into a df called Auto\n",
        "print(Advertising.head()) # print first few rows of Advertising df"
      ],
      "metadata": {
        "colab": {
          "base_uri": "https://localhost:8080/"
        },
        "id": "BAqGWQiWEwZJ",
        "outputId": "cf3f3d8c-943c-4575-e16f-5a836454c397"
      },
      "execution_count": 3,
      "outputs": [
        {
          "output_type": "stream",
          "name": "stdout",
          "text": [
            "      TV  radio  newspaper  sales\n",
            "0  230.1   37.8       69.2   22.1\n",
            "1   44.5   39.3       45.1   10.4\n",
            "2   17.2   45.9       69.3    9.3\n",
            "3  151.5   41.3       58.5   18.5\n",
            "4  180.8   10.8       58.4   12.9\n"
          ]
        }
      ]
    },
    {
      "cell_type": "markdown",
      "source": [
        "Normalize our X and Y variables:"
      ],
      "metadata": {
        "id": "-dGX2R3rUQxe"
      }
    },
    {
      "cell_type": "code",
      "source": [
        "X = Advertising[['TV','radio','newspaper']]\n",
        "Y = Advertising['sales']\n",
        "Y = np.array((Y-Y.mean())/Y.std()) # normalize Y\n",
        "X = X.apply(lambda rec:(rec-rec.mean())/rec.std(),axis=0) # normalize X"
      ],
      "metadata": {
        "id": "UivMRL9cHWVR"
      },
      "execution_count": 4,
      "outputs": []
    },
    {
      "cell_type": "markdown",
      "source": [
        "Define algorithm in 4 steps:\n",
        "\n",
        "- Randomly initialize the bias/intercept (beta) and the weight/slope (theta)\n",
        "- Calculate predicted value of y that is Y given the bias and the weight\n",
        "- Calculate the cost function from predicted and actual values of Y\n",
        "- Calculate gradient and the weights\n",
        "\n",
        "Let's start with taking a random value for bias and weights (which may or may not actually be close to the optimal bias and weights):"
      ],
      "metadata": {
        "id": "ehl0IldyH0K6"
      }
    },
    {
      "cell_type": "code",
      "source": [
        "import random # for generating random numbers\n",
        "def initialize(dim): # create function initialize\n",
        "  b = random.random() # assign a random value to b\n",
        "  theta=np.random.rand(dim)\n",
        "  return b,theta\n",
        "b,theta=initialize(3) # calling the func and specifying that we want three random values for weights\n",
        "print(\"Bias: \",b, \"Weights: \",theta)"
      ],
      "metadata": {
        "colab": {
          "base_uri": "https://localhost:8080/"
        },
        "id": "_IeYr_DjH1RM",
        "outputId": "637341e9-3748-4f4a-b067-f9df22f8f471"
      },
      "execution_count": 5,
      "outputs": [
        {
          "output_type": "stream",
          "name": "stdout",
          "text": [
            "Bias:  0.09810542342481443 Weights:  [0.77928364 0.32153225 0.46425468]\n"
          ]
        }
      ]
    },
    {
      "cell_type": "markdown",
      "source": [
        "Calculate the output (Y) using the weights and bias from above:"
      ],
      "metadata": {
        "id": "rGK85aMXIR7T"
      }
    },
    {
      "cell_type": "code",
      "source": [
        "def predict_Y(b,theta,X):\n",
        "  return b + np.dot(X,theta) # to compute dot product or matrix multiplication of arrays, use np.dot() func (I think I was using * before which is why I was getting a scalar output)\n",
        "Y_hat=predict_Y(b,theta,X) # Y_hat = predicted output values\n",
        "Y_hat[0:10] # show predictions for first 10 observations (there are 200 total in this dataset)"
      ],
      "metadata": {
        "colab": {
          "base_uri": "https://localhost:8080/"
        },
        "id": "19OGW0msIShU",
        "outputId": "81dd7a1b-48f1-43ad-849d-be45b07e3ba9"
      },
      "execution_count": 6,
      "outputs": [
        {
          "output_type": "execute_result",
          "data": {
            "text/plain": [
              "array([ 1.99062122, -0.1752915 ,  0.23571639,  1.12488948,  0.72818063,\n",
              "        0.34504022, -0.65850811, -0.62893143, -2.2468564 , -0.06993643])"
            ]
          },
          "metadata": {},
          "execution_count": 6
        }
      ]
    },
    {
      "cell_type": "markdown",
      "source": [
        "Now we need to calculate our cost function:"
      ],
      "metadata": {
        "id": "hp3mHVX5IXT1"
      }
    },
    {
      "cell_type": "code",
      "source": [
        "import math # math library\n",
        "def get_cost(Y,Y_hat): # cost func. goal: minimize this!\n",
        "  Y_resd=Y-Y_hat\n",
        "  return np.sum(np.dot(Y_resd.T,Y_resd))/len(Y-Y_resd) # had to google this; uses transpose of residuals to div the SSR by # of samples to compute avg sq error, which rep the cost func. result should be a scalar\n",
        "Y_hat=predict_Y(b,theta,X) # still using initial bias and weights\n",
        "get_cost(Y,Y_hat)"
      ],
      "metadata": {
        "colab": {
          "base_uri": "https://localhost:8080/"
        },
        "id": "wo3gk-HpIX-k",
        "outputId": "bd5f9be4-566a-4c61-bcdc-528f3e61e6d3"
      },
      "execution_count": 7,
      "outputs": [
        {
          "output_type": "execute_result",
          "data": {
            "text/plain": [
              "0.3068253572120067"
            ]
          },
          "metadata": {},
          "execution_count": 7
        }
      ]
    },
    {
      "cell_type": "markdown",
      "source": [
        "Now we need the updated bias and weights:"
      ],
      "metadata": {
        "id": "nELTBO3aG3bf"
      }
    },
    {
      "cell_type": "code",
      "source": [
        "def update_theta(x,y,y_hat,b_0,theta_o,learning_rate): # alpha = learning rate\n",
        "  db=(np.sum(y_hat-y)*2)/len(y) # deriv of cost func with respect to bias\n",
        "  dw=(np.dot((y_hat-y),x)*2)/len(y) # deriv of cost func with respect to weight\n",
        "  b_1=b_0-learning_rate*db # compute updated bias\n",
        "  theta_1=theta_o-learning_rate*dw # compute updated weights\n",
        "  return b_1,theta_1\n",
        "print(\"After initialization... Bias: \",b,\"Theta: \",theta)\n",
        "Y_hat=predict_Y(b,theta,X)\n",
        "b,theta=update_theta(X,Y,Y_hat,b,theta,0.001) # call update_theta func and set learning rate to 0.001. use updated b and theta values\n",
        "print(\"After first update... Bias: \",b,\"Theta: \",theta)\n",
        "get_cost(Y,Y_hat) # show new cost"
      ],
      "metadata": {
        "colab": {
          "base_uri": "https://localhost:8080/"
        },
        "id": "HRaP96A0IsGB",
        "outputId": "29d17269-8211-434c-d82e-1655b7ddc284"
      },
      "execution_count": 8,
      "outputs": [
        {
          "output_type": "stream",
          "name": "stdout",
          "text": [
            "After initialization... Bias:  0.09810542342481443 Theta:  [0.77928364 0.32153225 0.46425468]\n",
            "After first update... Bias:  0.0979092125779648 Theta:  [0.77920209 0.32162695 0.46347071]\n"
          ]
        },
        {
          "output_type": "execute_result",
          "data": {
            "text/plain": [
              "0.3068253572120067"
            ]
          },
          "metadata": {},
          "execution_count": 8
        }
      ]
    },
    {
      "cell_type": "markdown",
      "source": [
        "The cost should have went down since we are doing a linear regression! Now let's put everything together and create our gradient descent function which will run for a specified number of iterations and give us the optimal bias/intercept and weights/slopes (there should be 3 since we have 3 predictor variables/inputs)."
      ],
      "metadata": {
        "id": "QB_lhT4jR3g7"
      }
    },
    {
      "cell_type": "code",
      "source": [
        "def run_gradient_descent(X, Y, alpha, num_iterations): # alpha = learning rate\n",
        "    b, theta = initialize(X.shape[1]) # call initialize function to initialize intercept and weights based on # features in X\n",
        "    iter_num = 0\n",
        "    gd_iterations_df = pd.DataFrame(columns=['iteration', 'cost']) # create a df with columns 'iteration' and 'cost'\n",
        "    result_idx = 0\n",
        "    for each_iter in range(num_iterations): # for loop!!!\n",
        "        Y_hat = predict_Y(b, theta, X) # compute Y_hat using initial vals of b and theta\n",
        "        this_cost = get_cost(Y, Y_hat) # calculate cost between predicted values and true values using get_cost func\n",
        "        prev_b = b\n",
        "        prev_theta = theta\n",
        "        # Take in alpha, init vals of beta and theta, and cost function and throw out beta theta values and # iterations so I can plot cost func\n",
        "        b, theta = update_theta(X, Y, Y_hat, prev_b, prev_theta, alpha) # update parameters using update_theta func\n",
        "        if iter_num % 10 == 0: # every 10 iterations...\n",
        "            gd_iterations_df.loc[result_idx] = [iter_num, this_cost] # assign list [iter_num, this_cost] to the row identified by 'result.idx'\n",
        "            result_idx += 1 # increment 'result_idx' var by 1\n",
        "        iter_num += 1 # increment 'iter_num' var by 1\n",
        "    print(\"Final Estimate of b and theta:\", b, theta)\n",
        "    return gd_iterations_df, b, theta # return df with info abt iterations and cost, as well as updated estimates of beta and thetas\n",
        "\n",
        "gd_iterations_df, b, theta = run_gradient_descent(X, Y, alpha=0.001, num_iterations=200)\n",
        "\n",
        "gd_iterations_df[0:10]"
      ],
      "metadata": {
        "colab": {
          "base_uri": "https://localhost:8080/",
          "height": 381
        },
        "id": "dh-73N8cI3-M",
        "outputId": "2fc329a8-2ff1-4e54-bca6-d86e12b77417"
      },
      "execution_count": 9,
      "outputs": [
        {
          "output_type": "stream",
          "name": "stdout",
          "text": [
            "Final Estimate of b and theta: 0.05299632382652763 [0.6429799  0.28445357 0.63470821]\n"
          ]
        },
        {
          "output_type": "execute_result",
          "data": {
            "text/plain": [
              "   iteration      cost\n",
              "0        0.0  0.836588\n",
              "1       10.0  0.810337\n",
              "2       20.0  0.785144\n",
              "3       30.0  0.760964\n",
              "4       40.0  0.737749\n",
              "5       50.0  0.715459\n",
              "6       60.0  0.694051\n",
              "7       70.0  0.673488\n",
              "8       80.0  0.653731\n",
              "9       90.0  0.634747"
            ],
            "text/html": [
              "\n",
              "  <div id=\"df-d5b4cfa1-e60d-4906-bed1-b58354c6e768\" class=\"colab-df-container\">\n",
              "    <div>\n",
              "<style scoped>\n",
              "    .dataframe tbody tr th:only-of-type {\n",
              "        vertical-align: middle;\n",
              "    }\n",
              "\n",
              "    .dataframe tbody tr th {\n",
              "        vertical-align: top;\n",
              "    }\n",
              "\n",
              "    .dataframe thead th {\n",
              "        text-align: right;\n",
              "    }\n",
              "</style>\n",
              "<table border=\"1\" class=\"dataframe\">\n",
              "  <thead>\n",
              "    <tr style=\"text-align: right;\">\n",
              "      <th></th>\n",
              "      <th>iteration</th>\n",
              "      <th>cost</th>\n",
              "    </tr>\n",
              "  </thead>\n",
              "  <tbody>\n",
              "    <tr>\n",
              "      <th>0</th>\n",
              "      <td>0.0</td>\n",
              "      <td>0.836588</td>\n",
              "    </tr>\n",
              "    <tr>\n",
              "      <th>1</th>\n",
              "      <td>10.0</td>\n",
              "      <td>0.810337</td>\n",
              "    </tr>\n",
              "    <tr>\n",
              "      <th>2</th>\n",
              "      <td>20.0</td>\n",
              "      <td>0.785144</td>\n",
              "    </tr>\n",
              "    <tr>\n",
              "      <th>3</th>\n",
              "      <td>30.0</td>\n",
              "      <td>0.760964</td>\n",
              "    </tr>\n",
              "    <tr>\n",
              "      <th>4</th>\n",
              "      <td>40.0</td>\n",
              "      <td>0.737749</td>\n",
              "    </tr>\n",
              "    <tr>\n",
              "      <th>5</th>\n",
              "      <td>50.0</td>\n",
              "      <td>0.715459</td>\n",
              "    </tr>\n",
              "    <tr>\n",
              "      <th>6</th>\n",
              "      <td>60.0</td>\n",
              "      <td>0.694051</td>\n",
              "    </tr>\n",
              "    <tr>\n",
              "      <th>7</th>\n",
              "      <td>70.0</td>\n",
              "      <td>0.673488</td>\n",
              "    </tr>\n",
              "    <tr>\n",
              "      <th>8</th>\n",
              "      <td>80.0</td>\n",
              "      <td>0.653731</td>\n",
              "    </tr>\n",
              "    <tr>\n",
              "      <th>9</th>\n",
              "      <td>90.0</td>\n",
              "      <td>0.634747</td>\n",
              "    </tr>\n",
              "  </tbody>\n",
              "</table>\n",
              "</div>\n",
              "    <div class=\"colab-df-buttons\">\n",
              "\n",
              "  <div class=\"colab-df-container\">\n",
              "    <button class=\"colab-df-convert\" onclick=\"convertToInteractive('df-d5b4cfa1-e60d-4906-bed1-b58354c6e768')\"\n",
              "            title=\"Convert this dataframe to an interactive table.\"\n",
              "            style=\"display:none;\">\n",
              "\n",
              "  <svg xmlns=\"http://www.w3.org/2000/svg\" height=\"24px\" viewBox=\"0 -960 960 960\">\n",
              "    <path d=\"M120-120v-720h720v720H120Zm60-500h600v-160H180v160Zm220 220h160v-160H400v160Zm0 220h160v-160H400v160ZM180-400h160v-160H180v160Zm440 0h160v-160H620v160ZM180-180h160v-160H180v160Zm440 0h160v-160H620v160Z\"/>\n",
              "  </svg>\n",
              "    </button>\n",
              "\n",
              "  <style>\n",
              "    .colab-df-container {\n",
              "      display:flex;\n",
              "      gap: 12px;\n",
              "    }\n",
              "\n",
              "    .colab-df-convert {\n",
              "      background-color: #E8F0FE;\n",
              "      border: none;\n",
              "      border-radius: 50%;\n",
              "      cursor: pointer;\n",
              "      display: none;\n",
              "      fill: #1967D2;\n",
              "      height: 32px;\n",
              "      padding: 0 0 0 0;\n",
              "      width: 32px;\n",
              "    }\n",
              "\n",
              "    .colab-df-convert:hover {\n",
              "      background-color: #E2EBFA;\n",
              "      box-shadow: 0px 1px 2px rgba(60, 64, 67, 0.3), 0px 1px 3px 1px rgba(60, 64, 67, 0.15);\n",
              "      fill: #174EA6;\n",
              "    }\n",
              "\n",
              "    .colab-df-buttons div {\n",
              "      margin-bottom: 4px;\n",
              "    }\n",
              "\n",
              "    [theme=dark] .colab-df-convert {\n",
              "      background-color: #3B4455;\n",
              "      fill: #D2E3FC;\n",
              "    }\n",
              "\n",
              "    [theme=dark] .colab-df-convert:hover {\n",
              "      background-color: #434B5C;\n",
              "      box-shadow: 0px 1px 3px 1px rgba(0, 0, 0, 0.15);\n",
              "      filter: drop-shadow(0px 1px 2px rgba(0, 0, 0, 0.3));\n",
              "      fill: #FFFFFF;\n",
              "    }\n",
              "  </style>\n",
              "\n",
              "    <script>\n",
              "      const buttonEl =\n",
              "        document.querySelector('#df-d5b4cfa1-e60d-4906-bed1-b58354c6e768 button.colab-df-convert');\n",
              "      buttonEl.style.display =\n",
              "        google.colab.kernel.accessAllowed ? 'block' : 'none';\n",
              "\n",
              "      async function convertToInteractive(key) {\n",
              "        const element = document.querySelector('#df-d5b4cfa1-e60d-4906-bed1-b58354c6e768');\n",
              "        const dataTable =\n",
              "          await google.colab.kernel.invokeFunction('convertToInteractive',\n",
              "                                                    [key], {});\n",
              "        if (!dataTable) return;\n",
              "\n",
              "        const docLinkHtml = 'Like what you see? Visit the ' +\n",
              "          '<a target=\"_blank\" href=https://colab.research.google.com/notebooks/data_table.ipynb>data table notebook</a>'\n",
              "          + ' to learn more about interactive tables.';\n",
              "        element.innerHTML = '';\n",
              "        dataTable['output_type'] = 'display_data';\n",
              "        await google.colab.output.renderOutput(dataTable, element);\n",
              "        const docLink = document.createElement('div');\n",
              "        docLink.innerHTML = docLinkHtml;\n",
              "        element.appendChild(docLink);\n",
              "      }\n",
              "    </script>\n",
              "  </div>\n",
              "\n",
              "\n",
              "<div id=\"df-49ee9f85-d167-4487-a0ad-aa7608e2afad\">\n",
              "  <button class=\"colab-df-quickchart\" onclick=\"quickchart('df-49ee9f85-d167-4487-a0ad-aa7608e2afad')\"\n",
              "            title=\"Suggest charts\"\n",
              "            style=\"display:none;\">\n",
              "\n",
              "<svg xmlns=\"http://www.w3.org/2000/svg\" height=\"24px\"viewBox=\"0 0 24 24\"\n",
              "     width=\"24px\">\n",
              "    <g>\n",
              "        <path d=\"M19 3H5c-1.1 0-2 .9-2 2v14c0 1.1.9 2 2 2h14c1.1 0 2-.9 2-2V5c0-1.1-.9-2-2-2zM9 17H7v-7h2v7zm4 0h-2V7h2v10zm4 0h-2v-4h2v4z\"/>\n",
              "    </g>\n",
              "</svg>\n",
              "  </button>\n",
              "\n",
              "<style>\n",
              "  .colab-df-quickchart {\n",
              "      --bg-color: #E8F0FE;\n",
              "      --fill-color: #1967D2;\n",
              "      --hover-bg-color: #E2EBFA;\n",
              "      --hover-fill-color: #174EA6;\n",
              "      --disabled-fill-color: #AAA;\n",
              "      --disabled-bg-color: #DDD;\n",
              "  }\n",
              "\n",
              "  [theme=dark] .colab-df-quickchart {\n",
              "      --bg-color: #3B4455;\n",
              "      --fill-color: #D2E3FC;\n",
              "      --hover-bg-color: #434B5C;\n",
              "      --hover-fill-color: #FFFFFF;\n",
              "      --disabled-bg-color: #3B4455;\n",
              "      --disabled-fill-color: #666;\n",
              "  }\n",
              "\n",
              "  .colab-df-quickchart {\n",
              "    background-color: var(--bg-color);\n",
              "    border: none;\n",
              "    border-radius: 50%;\n",
              "    cursor: pointer;\n",
              "    display: none;\n",
              "    fill: var(--fill-color);\n",
              "    height: 32px;\n",
              "    padding: 0;\n",
              "    width: 32px;\n",
              "  }\n",
              "\n",
              "  .colab-df-quickchart:hover {\n",
              "    background-color: var(--hover-bg-color);\n",
              "    box-shadow: 0 1px 2px rgba(60, 64, 67, 0.3), 0 1px 3px 1px rgba(60, 64, 67, 0.15);\n",
              "    fill: var(--button-hover-fill-color);\n",
              "  }\n",
              "\n",
              "  .colab-df-quickchart-complete:disabled,\n",
              "  .colab-df-quickchart-complete:disabled:hover {\n",
              "    background-color: var(--disabled-bg-color);\n",
              "    fill: var(--disabled-fill-color);\n",
              "    box-shadow: none;\n",
              "  }\n",
              "\n",
              "  .colab-df-spinner {\n",
              "    border: 2px solid var(--fill-color);\n",
              "    border-color: transparent;\n",
              "    border-bottom-color: var(--fill-color);\n",
              "    animation:\n",
              "      spin 1s steps(1) infinite;\n",
              "  }\n",
              "\n",
              "  @keyframes spin {\n",
              "    0% {\n",
              "      border-color: transparent;\n",
              "      border-bottom-color: var(--fill-color);\n",
              "      border-left-color: var(--fill-color);\n",
              "    }\n",
              "    20% {\n",
              "      border-color: transparent;\n",
              "      border-left-color: var(--fill-color);\n",
              "      border-top-color: var(--fill-color);\n",
              "    }\n",
              "    30% {\n",
              "      border-color: transparent;\n",
              "      border-left-color: var(--fill-color);\n",
              "      border-top-color: var(--fill-color);\n",
              "      border-right-color: var(--fill-color);\n",
              "    }\n",
              "    40% {\n",
              "      border-color: transparent;\n",
              "      border-right-color: var(--fill-color);\n",
              "      border-top-color: var(--fill-color);\n",
              "    }\n",
              "    60% {\n",
              "      border-color: transparent;\n",
              "      border-right-color: var(--fill-color);\n",
              "    }\n",
              "    80% {\n",
              "      border-color: transparent;\n",
              "      border-right-color: var(--fill-color);\n",
              "      border-bottom-color: var(--fill-color);\n",
              "    }\n",
              "    90% {\n",
              "      border-color: transparent;\n",
              "      border-bottom-color: var(--fill-color);\n",
              "    }\n",
              "  }\n",
              "</style>\n",
              "\n",
              "  <script>\n",
              "    async function quickchart(key) {\n",
              "      const quickchartButtonEl =\n",
              "        document.querySelector('#' + key + ' button');\n",
              "      quickchartButtonEl.disabled = true;  // To prevent multiple clicks.\n",
              "      quickchartButtonEl.classList.add('colab-df-spinner');\n",
              "      try {\n",
              "        const charts = await google.colab.kernel.invokeFunction(\n",
              "            'suggestCharts', [key], {});\n",
              "      } catch (error) {\n",
              "        console.error('Error during call to suggestCharts:', error);\n",
              "      }\n",
              "      quickchartButtonEl.classList.remove('colab-df-spinner');\n",
              "      quickchartButtonEl.classList.add('colab-df-quickchart-complete');\n",
              "    }\n",
              "    (() => {\n",
              "      let quickchartButtonEl =\n",
              "        document.querySelector('#df-49ee9f85-d167-4487-a0ad-aa7608e2afad button');\n",
              "      quickchartButtonEl.style.display =\n",
              "        google.colab.kernel.accessAllowed ? 'block' : 'none';\n",
              "    })();\n",
              "  </script>\n",
              "</div>\n",
              "\n",
              "    </div>\n",
              "  </div>\n"
            ],
            "application/vnd.google.colaboratory.intrinsic+json": {
              "type": "dataframe",
              "summary": "{\n  \"name\": \"gd_iterations_df[0:10]\",\n  \"rows\": 10,\n  \"fields\": [\n    {\n      \"column\": \"iteration\",\n      \"properties\": {\n        \"dtype\": \"number\",\n        \"std\": 30.276503540974915,\n        \"min\": 0.0,\n        \"max\": 90.0,\n        \"num_unique_values\": 10,\n        \"samples\": [\n          80.0,\n          10.0,\n          50.0\n        ],\n        \"semantic_type\": \"\",\n        \"description\": \"\"\n      }\n    },\n    {\n      \"column\": \"cost\",\n      \"properties\": {\n        \"dtype\": \"number\",\n        \"std\": 0.06787387496000934,\n        \"min\": 0.6347465034571315,\n        \"max\": 0.8365881526326886,\n        \"num_unique_values\": 10,\n        \"samples\": [\n          0.6537312730804038,\n          0.8103368416473252,\n          0.7154588961144439\n        ],\n        \"semantic_type\": \"\",\n        \"description\": \"\"\n      }\n    }\n  ]\n}"
            }
          },
          "metadata": {},
          "execution_count": 9
        }
      ]
    },
    {
      "cell_type": "markdown",
      "source": [
        "We can plot iterations VS cost to make sure the cost function is decreasing as we increase the number of iterations."
      ],
      "metadata": {
        "id": "hNU1ArGkdjZy"
      }
    },
    {
      "cell_type": "code",
      "source": [
        "%matplotlib inline\n",
        "plt.plot(gd_iterations_df['iteration'],gd_iterations_df['cost']) # plot iterations VS cost\n",
        "plt.xlabel(\"Number of iterations\")\n",
        "plt.ylabel(\"Cost\")"
      ],
      "metadata": {
        "colab": {
          "base_uri": "https://localhost:8080/",
          "height": 469
        },
        "id": "L7vb4EoAJ3Le",
        "outputId": "62f4739c-0da1-4659-fbea-df6e0b02f192"
      },
      "execution_count": 10,
      "outputs": [
        {
          "output_type": "execute_result",
          "data": {
            "text/plain": [
              "Text(0, 0.5, 'Cost')"
            ]
          },
          "metadata": {},
          "execution_count": 10
        },
        {
          "output_type": "display_data",
          "data": {
            "text/plain": [
              "<Figure size 640x480 with 1 Axes>"
            ],
            "image/png": "[encoded data removed]"
          },
          "metadata": {}
        }
      ]
    },
    {
      "cell_type": "markdown",
      "source": [
        "Notice that we have not reached convergence after 200 iterations. Let's now do 2000 iterations with alpha = 0.01 to see which learning rate performs better for this dataset:"
      ],
      "metadata": {
        "id": "cWWgF1KOdrLM"
      }
    },
    {
      "cell_type": "code",
      "source": [
        "alpha_df_1,b,theta=run_gradient_descent(X,Y,alpha=0.01,num_iterations=2000) # alpha = 0.01\n",
        "alpha_df_2,b,theta=run_gradient_descent(X,Y,alpha=0.001,num_iterations=2000) # alpha = 0.001\n",
        "plt.plot(alpha_df_1['iteration'],alpha_df_1['cost'],label=\"alpha=0.01\")\n",
        "plt.plot(alpha_df_2['iteration'],alpha_df_2['cost'],label=\"alpha=0.001\")\n",
        "plt.legend()\n",
        "plt.ylabel('Cost')\n",
        "plt.xlabel('Number of iterations')\n",
        "plt.title('Cost Vs. Iterations for Different Alpha Values')"
      ],
      "metadata": {
        "colab": {
          "base_uri": "https://localhost:8080/",
          "height": 526
        },
        "id": "Jt-fb8aQKjXF",
        "outputId": "751cd949-c1ce-4827-c0dd-cb439ea91a4f"
      },
      "execution_count": 11,
      "outputs": [
        {
          "output_type": "stream",
          "name": "stdout",
          "text": [
            "Final Estimate of b and theta: -5.5055837116391183e-17 [ 0.75306591  0.53648155 -0.00433069]\n",
            "Final Estimate of b and theta: 0.01674831447182103 [ 0.74361639  0.55362456 -0.0173721 ]\n"
          ]
        },
        {
          "output_type": "execute_result",
          "data": {
            "text/plain": [
              "Text(0.5, 1.0, 'Cost Vs. Iterations for Different Alpha Values')"
            ]
          },
          "metadata": {},
          "execution_count": 11
        },
        {
          "output_type": "display_data",
          "data": {
            "text/plain": [
              "<Figure size 640x480 with 1 Axes>"
            ],
            "image/png": "[encoded data removed]"
          },
          "metadata": {}
        }
      ]
    },
    {
      "cell_type": "markdown",
      "source": [
        "0.01 is the optimal learning rate because it converges much more quickly than 0.001. 0.01 converges around the 100 mark, whereas 0.001 takes around 1500 iterations to reach convergence. The optimal alpha differs for every dataset.\n",
        "\n",
        "We built a gradient descent algorithm!"
      ],
      "metadata": {
        "id": "RlYgMZKbeExL"
      }
    },
    {
      "cell_type": "markdown",
      "source": [
        "Tasks for Weeks 7 and 8: Learn about and implement batch, mini batch, and stochastic gradient descent."
      ],
      "metadata": {
        "id": "ONQUvyqpJc3Z"
      }
    },
    {
      "cell_type": "markdown",
      "source": [
        "The code above represents batch gradient descent. In batch gradient descent, you update the parameters (weights and bias in this case) using the gradients computed from the entire dataset. That's exactly what we're doing in the code above, which does the following:\n",
        "\n",
        "* Iteration through the entire dataset: We are iterating through the entire dataset in each iteration (batch). The for loop runs for num_iterations, which means it processes the entire dataset in each iteration.\n",
        "* Update based on the entire dataset: The update_theta function updates the parameters b and theta using gradients computed from the entire dataset X and corresponding labels Y.\n",
        "* Cost calculation: The cost is calculated using all the samples in the dataset. The get_cost function computes the cost by comparing all predicted values Y_hat with true values Y.\n",
        "\n",
        "In contrast:\n",
        "\n",
        "* Stochastic Gradient Descent (SGD) updates the parameters using only one randomly chosen sample from the dataset in each iteration.\n",
        "* Mini-batch Gradient Descent updates the parameters using a subset of the dataset (mini-batch) in each iteration.\n",
        "\n",
        "\n",
        "\n"
      ],
      "metadata": {
        "id": "QiYBqGtSJ4X0"
      }
    },
    {
      "cell_type": "markdown",
      "source": [
        "Let's start by trying to implement stochastic gradient descent (SGD), which as I just mentioned updates the parameters using only ONE randomly chosen sample from the dataset in each iteration:"
      ],
      "metadata": {
        "id": "AB7fHqMoZmsk"
      }
    },
    {
      "cell_type": "code",
      "source": [
        "import numpy as np # for numerical and mathematical operations\n",
        "\n",
        "def stochastic_gradient_descent(X, Y, alpha, num_iterations):\n",
        "    b, theta = initialize(X.shape[1]) # call initialize function to initialize intercept and weights based on # features in X\n",
        "    iter_num = 0\n",
        "    stoch_gd_iterations_df = pd.DataFrame(columns=['iteration', 'cost']) # create a df with columns 'iteration' and 'cost'\n",
        "    result_idx = 0\n",
        "\n",
        "    m = len(Y)  # Number of training examples\n",
        "\n",
        "    for each_iter in range(num_iterations):\n",
        "        for i in range(m): # where m is number of training examples\n",
        "            # Randomly select a SINGLE sample\n",
        "            random_index = np.random.randint(m)\n",
        "            X_i = X[random_index:random_index+1] # does not include end number\n",
        "            Y_i = Y[random_index:random_index+1] # does not include end number\n",
        "\n",
        "            Y_hat = predict_Y(b, theta, X_i) # compute Y_hat using initial vals of b and theta, as well as random single sample X_i\n",
        "            this_cost = get_cost(Y_i, Y_hat) # calculate cost between predicted values and true values using get_cost func\n",
        "            prev_b = b # store current val of b for later use in the parameter update step\n",
        "            prev_theta = theta # store current val of theta for later use in the parameter update step\n",
        "\n",
        "            # Update parameters using the single sample\n",
        "            b, theta = update_theta(X_i, Y_i, Y_hat, prev_b, prev_theta, alpha)\n",
        "\n",
        "            stoch_gd_iterations_df.loc[result_idx] = [iter_num, this_cost] # assign vals iter_num and this_cost to the selected row in the df\n",
        "            result_idx += 1 # increment 'result_idx' variable by 1\n",
        "            iter_num += 1 # increment 'iter_num' var by 1\n",
        "\n",
        "    print(\"Final Estimate of b and theta:\", b, theta)\n",
        "    return stoch_gd_iterations_df, b, theta\n",
        "\n",
        "stoch_gd_iterations_df, b, theta = stochastic_gradient_descent(X, Y, alpha=0.001, num_iterations=1000) # call stochastic gradient descent func!\n",
        "\n",
        "stoch_gd_iterations_df[0:10] # display first 10 rows of df\n",
        "\n",
        "# Plot iterations VS cost\n",
        "%matplotlib inline\n",
        "plt.plot(stoch_gd_iterations_df['iteration'],stoch_gd_iterations_df['cost']) # plot iterations VS cost\n",
        "plt.xlabel(\"Number of iterations\")\n",
        "plt.ylabel(\"Cost\")"
      ],
      "metadata": {
        "colab": {
          "base_uri": "https://localhost:8080/",
          "height": 485
        },
        "id": "Myy2nzQQJexU",
        "outputId": "914aa493-2708-401c-f27a-fd40ec4ca327"
      },
      "execution_count": 14,
      "outputs": [
        {
          "output_type": "stream",
          "name": "stdout",
          "text": [
            "Final Estimate of b and theta: -0.018381127936350737 [0.75163673 0.52943353 0.00314301]\n"
          ]
        },
        {
          "output_type": "execute_result",
          "data": {
            "text/plain": [
              "Text(0, 0.5, 'Cost')"
            ]
          },
          "metadata": {},
          "execution_count": 14
        },
        {
          "output_type": "display_data",
          "data": {
            "text/plain": [
              "<Figure size 640x480 with 1 Axes>"
            ],
            "image/png": "[encoded data removed]"
          },
          "metadata": {}
        }
      ]
    },
    {
      "cell_type": "markdown",
      "source": [
        "Now let's try to implement mini batch gradient descent, which again updates the parameters using a subset of the dataset (mini-batch) in each iteration:"
      ],
      "metadata": {
        "id": "38Jm5dFLYgPi"
      }
    },
    {
      "cell_type": "code",
      "source": [
        "def mini_batch_gradient_descent(X, Y, alpha, num_iterations, batch_size):\n",
        "    b, theta = initialize(X.shape[1]) # call initialize function to initialize intercept and weights based on # features in X (3 in this case)\n",
        "    iter_num = 0\n",
        "    mini_gd_iterations_df = pd.DataFrame(columns=['iteration', 'cost']) # create a df with columns 'iteration' and 'cost'\n",
        "    result_idx = 0\n",
        "\n",
        "    m = len(Y)  # Number of training examples\n",
        "\n",
        "    for each_iter in range(num_iterations):\n",
        "        for i in range(0, m, batch_size): # div dataset into mini-batches; iterate over entire dataset (m) with step size of batch_size, creating mini-batches of size batch_size for processing\n",
        "            # Select mini-batch\n",
        "            X_batch = X[i:i+batch_size]\n",
        "            Y_batch = Y[i:i+batch_size]\n",
        "\n",
        "            Y_hat = predict_Y(b, theta, X_batch) # compute predicted values Y_hat using current values of b and theta and the features in the mini-batch X_batch\n",
        "            this_cost = get_cost(Y_batch, Y_hat) # calculate cost between predicted values and true values using get_cost func\n",
        "            prev_b = b # store current val of b for later use in the parameter update step\n",
        "            prev_theta = theta # store current val of theta for later use in the parameter update step\n",
        "\n",
        "            # Update parameters using mini-batch\n",
        "            b, theta = update_theta(X_batch, Y_batch, Y_hat, prev_b, prev_theta, alpha)\n",
        "\n",
        "            # Record cost at regular intervals\n",
        "            if iter_num % 10 == 0: # every 10 iterations\n",
        "                mini_gd_iterations_df.loc[result_idx] = [iter_num, this_cost] # assign list [iter_num, this_cost] to the row identified by 'result.idx'\n",
        "                result_idx += 1  # increment 'result_idx' by 1\n",
        "            iter_num += 1 # increment 'iter_num' by 1, regardless of whether cost is recorded or not\n",
        "\n",
        "    print(\"Final Estimate of b and theta:\", b, theta)\n",
        "    return mini_gd_iterations_df, b, theta # return dataframe containing recorded cost vals as well as final estim of b and theta\n",
        "\n",
        "mini_gd_iterations_df, b, theta = mini_batch_gradient_descent(X, Y, alpha=0.001, num_iterations=200, batch_size = 32) # call func. for small to medium-sized datasets, batch sizes in the range of 32 to 256 are effective. batch size of 1 = SGD\n",
        "\n",
        "mini_gd_iterations_df[0:10] # display first 10 rows of df\n",
        "\n",
        "# Plotting Iterations VS Cost\n",
        "%matplotlib inline\n",
        "plt.plot(mini_gd_iterations_df['iteration'],mini_gd_iterations_df['cost']) # plot iterations VS cost\n",
        "plt.xlabel(\"Number of iterations\")\n",
        "plt.ylabel(\"Cost\")\n",
        "\n",
        "# Checking which learning rate performs better for this dataset (alpha = 0.01 or alpha = 0.001)\n",
        "# alpha_df_1_mini,b,theta=mini_batch_gradient_descent(X,Y,alpha=0.01,num_iterations=2000, batch_size = 32) # alpha = 0.01\n",
        "# alpha_df_2_mini,b,theta=mini_batch_gradient_descent(X,Y,alpha=0.001,num_iterations=2000, batch_size = 32) # alpha = 0.001\n",
        "# plt.plot(alpha_df_1_mini['iteration'],alpha_df_1_mini['cost'],label=\"alpha=0.01\")\n",
        "# plt.plot(alpha_df_2_mini['iteration'],alpha_df_2_mini['cost'],label=\"alpha=0.001\")\n",
        "# plt.legend()\n",
        "# plt.ylabel('Cost')\n",
        "# plt.xlabel('Number of iterations')\n",
        "# plt.title('Cost Vs. Iterations for Different Alpha Values')"
      ],
      "metadata": {
        "colab": {
          "base_uri": "https://localhost:8080/",
          "height": 485
        },
        "id": "EnjduTShYe_H",
        "outputId": "f172c01d-98b2-4966-a11c-0a2afaca127c"
      },
      "execution_count": null,
      "outputs": [
        {
          "output_type": "stream",
          "name": "stdout",
          "text": [
            "Final Estimate of b and theta: 0.035886462146888176 [0.71844126 0.48437595 0.07826834]\n"
          ]
        },
        {
          "output_type": "execute_result",
          "data": {
            "text/plain": [
              "Text(0, 0.5, 'Cost')"
            ]
          },
          "metadata": {},
          "execution_count": 14
        },
        {
          "output_type": "display_data",
          "data": {
            "text/plain": [
              "<Figure size 640x480 with 1 Axes>"
            ],
            "image/png": "[encoded data removed]"
          },
          "metadata": {}
        }
      ]
    },
    {
      "cell_type": "markdown",
      "source": [
        "In summary, choose:\n",
        "- Batch Gradient Descent: when computational resources allow and you need stable convergence.\n",
        "- Stochastic Gradient Descent: when dealing with very large datasets and you need faster updates, possibly for online learning settings.\n",
        "- Mini-Batch Gradient Descent: when you want a compromise between the stability of batch gradient descent and the computational efficiency of stochastic gradient descent, suitable for medium to large datasets."
      ],
      "metadata": {
        "id": "7ipvKsAG3O_4"
      }
    }
  ]
}